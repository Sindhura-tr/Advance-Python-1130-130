{
 "cells": [
  {
   "cell_type": "markdown",
   "id": "dd0c20a9",
   "metadata": {},
   "source": [
    "## Functions"
   ]
  },
  {
   "cell_type": "code",
   "execution_count": 1,
   "id": "ead3fa1f",
   "metadata": {},
   "outputs": [],
   "source": [
    "def add(x,y):\n",
    "    \"\"\"\n",
    "    This function takes 2 parameters are inputs and returns addition of both parameters\n",
    "    \"\"\"\n",
    "    c = x+y\n",
    "    return c"
   ]
  },
  {
   "cell_type": "code",
   "execution_count": 2,
   "id": "715c9bb9",
   "metadata": {},
   "outputs": [],
   "source": [
    "a1 = add(34,56)"
   ]
  },
  {
   "cell_type": "code",
   "execution_count": 3,
   "id": "b9f27353",
   "metadata": {},
   "outputs": [
    {
     "name": "stdout",
     "output_type": "stream",
     "text": [
      "90\n"
     ]
    }
   ],
   "source": [
    "print(a1)"
   ]
  },
  {
   "cell_type": "code",
   "execution_count": 4,
   "id": "dc788748",
   "metadata": {},
   "outputs": [
    {
     "data": {
      "text/plain": [
       "112"
      ]
     },
     "execution_count": 4,
     "metadata": {},
     "output_type": "execute_result"
    }
   ],
   "source": [
    "add(45,67)"
   ]
  },
  {
   "cell_type": "markdown",
   "id": "551ace6e",
   "metadata": {},
   "source": [
    "## Variadic Functions"
   ]
  },
  {
   "cell_type": "code",
   "execution_count": 5,
   "id": "914d27c9",
   "metadata": {},
   "outputs": [
    {
     "data": {
      "text/plain": [
       "145"
      ]
     },
     "execution_count": 5,
     "metadata": {},
     "output_type": "execute_result"
    }
   ],
   "source": [
    "add(56,89)"
   ]
  },
  {
   "cell_type": "code",
   "execution_count": 6,
   "id": "18ba471b",
   "metadata": {},
   "outputs": [],
   "source": [
    "#add(78,67,56,45)"
   ]
  },
  {
   "cell_type": "code",
   "execution_count": 7,
   "id": "912ff8d3",
   "metadata": {},
   "outputs": [],
   "source": [
    "def add1(*args):\n",
    "    for i in args:\n",
    "        print(i)"
   ]
  },
  {
   "cell_type": "code",
   "execution_count": 8,
   "id": "87a87f13",
   "metadata": {},
   "outputs": [
    {
     "name": "stdout",
     "output_type": "stream",
     "text": [
      "45\n",
      "56\n",
      "78\n",
      "89\n"
     ]
    }
   ],
   "source": [
    "add1(45,56,78,89)"
   ]
  },
  {
   "cell_type": "code",
   "execution_count": 9,
   "id": "9af6f5ee",
   "metadata": {},
   "outputs": [],
   "source": [
    "def add2(*args):\n",
    "    s = 0\n",
    "    for i in args:\n",
    "        #print(i)\n",
    "        s = s+i\n",
    "    return s"
   ]
  },
  {
   "cell_type": "code",
   "execution_count": 12,
   "id": "ef1c789d",
   "metadata": {},
   "outputs": [
    {
     "data": {
      "text/plain": [
       "348"
      ]
     },
     "execution_count": 12,
     "metadata": {},
     "output_type": "execute_result"
    }
   ],
   "source": [
    "s1 = add2(45,67,89,23,12,67,45)\n",
    "s1"
   ]
  },
  {
   "cell_type": "code",
   "execution_count": 13,
   "id": "7f290c01",
   "metadata": {},
   "outputs": [],
   "source": [
    "def multiply(x,*args):\n",
    "    \"\"\"\n",
    "    Inputs: X and multiple arguments\n",
    "    Output: Returns a welcome statement along with product of given arguments\n",
    "    \"\"\"\n",
    "    welcome = f\"Welcome {x}\"\n",
    "    p = 1\n",
    "    for i in args:\n",
    "        p = i*p\n",
    "    return f\"{welcome}. Product of given data is {p}\"\n",
    "    #return f\"welcome {x}.Product of given data is {p}\". "
   ]
  },
  {
   "cell_type": "code",
   "execution_count": 14,
   "id": "e8cda2cd",
   "metadata": {},
   "outputs": [],
   "source": [
    "m1 = multiply(\"Raman\",67,78,34,23,34)"
   ]
  },
  {
   "cell_type": "code",
   "execution_count": 15,
   "id": "77382fe7",
   "metadata": {},
   "outputs": [
    {
     "data": {
      "text/plain": [
       "'Welcome Raman. Product of given data is 138948888'"
      ]
     },
     "execution_count": 15,
     "metadata": {},
     "output_type": "execute_result"
    }
   ],
   "source": [
    "m1"
   ]
  },
  {
   "cell_type": "markdown",
   "id": "be5ec4a1",
   "metadata": {},
   "source": [
    "## I have employee data with me. Emp ids and empnames are stored in lists.I want to update their department details , let's assume IT department."
   ]
  },
  {
   "cell_type": "code",
   "execution_count": 16,
   "id": "60ea1c42",
   "metadata": {},
   "outputs": [],
   "source": [
    "employee1 = [101,\"Raman\"]\n",
    "employee2 = [102,\"Thaman\"]\n",
    "employee3 = [103,\"Suman\"]"
   ]
  },
  {
   "cell_type": "code",
   "execution_count": 17,
   "id": "4897ca4d",
   "metadata": {},
   "outputs": [],
   "source": [
    "def add_dept(*args):\n",
    "    for i in args:\n",
    "        i.append(\"IT\")"
   ]
  },
  {
   "cell_type": "code",
   "execution_count": 18,
   "id": "6346b76d",
   "metadata": {},
   "outputs": [],
   "source": [
    "add_dept(employee1,employee2,employee3)"
   ]
  },
  {
   "cell_type": "code",
   "execution_count": 19,
   "id": "9434bd65",
   "metadata": {},
   "outputs": [
    {
     "data": {
      "text/plain": [
       "[101, 'Raman', 'IT']"
      ]
     },
     "execution_count": 19,
     "metadata": {},
     "output_type": "execute_result"
    }
   ],
   "source": [
    "employee1"
   ]
  },
  {
   "cell_type": "code",
   "execution_count": 20,
   "id": "698ebf47",
   "metadata": {},
   "outputs": [
    {
     "data": {
      "text/plain": [
       "[102, 'Thaman', 'IT']"
      ]
     },
     "execution_count": 20,
     "metadata": {},
     "output_type": "execute_result"
    }
   ],
   "source": [
    "employee2"
   ]
  },
  {
   "cell_type": "code",
   "execution_count": 21,
   "id": "cb2d61fe",
   "metadata": {},
   "outputs": [
    {
     "data": {
      "text/plain": [
       "[103, 'Suman', 'IT']"
      ]
     },
     "execution_count": 21,
     "metadata": {},
     "output_type": "execute_result"
    }
   ],
   "source": [
    "employee3"
   ]
  },
  {
   "cell_type": "markdown",
   "id": "1690908b",
   "metadata": {},
   "source": [
    "## Keyword arguments **kwargs"
   ]
  },
  {
   "cell_type": "code",
   "execution_count": 22,
   "id": "fc5bca86",
   "metadata": {},
   "outputs": [
    {
     "data": {
      "text/plain": [
       "134"
      ]
     },
     "execution_count": 22,
     "metadata": {},
     "output_type": "execute_result"
    }
   ],
   "source": [
    "add(56,78)"
   ]
  },
  {
   "cell_type": "code",
   "execution_count": 23,
   "id": "9e7a1a9f",
   "metadata": {},
   "outputs": [
    {
     "data": {
      "text/plain": [
       "90"
      ]
     },
     "execution_count": 23,
     "metadata": {},
     "output_type": "execute_result"
    }
   ],
   "source": [
    "add(y=67,x=23)"
   ]
  },
  {
   "cell_type": "code",
   "execution_count": 24,
   "id": "3a464211",
   "metadata": {},
   "outputs": [],
   "source": [
    "def func(**kwargs):\n",
    "    print(type(kwargs))\n",
    "    print(kwargs.items())"
   ]
  },
  {
   "cell_type": "code",
   "execution_count": 25,
   "id": "2bcd63a1",
   "metadata": {},
   "outputs": [],
   "source": [
    "dct = {\n",
    "    \"emp\":101,\n",
    "    \"dept\":\"HR\"\n",
    "}"
   ]
  },
  {
   "cell_type": "code",
   "execution_count": 27,
   "id": "06124c58",
   "metadata": {},
   "outputs": [
    {
     "data": {
      "text/plain": [
       "dict"
      ]
     },
     "execution_count": 27,
     "metadata": {},
     "output_type": "execute_result"
    }
   ],
   "source": [
    "type(dct)"
   ]
  },
  {
   "cell_type": "code",
   "execution_count": 28,
   "id": "bb463300",
   "metadata": {},
   "outputs": [
    {
     "data": {
      "text/plain": [
       "dict_items([('emp', 101), ('dept', 'HR')])"
      ]
     },
     "execution_count": 28,
     "metadata": {},
     "output_type": "execute_result"
    }
   ],
   "source": [
    "dct.items()"
   ]
  },
  {
   "cell_type": "code",
   "execution_count": 29,
   "id": "bfc8186a",
   "metadata": {},
   "outputs": [
    {
     "name": "stdout",
     "output_type": "stream",
     "text": [
      "<class 'dict'>\n",
      "dict_items([('id', 101), ('dept', 'hr')])\n"
     ]
    }
   ],
   "source": [
    "func(id=101,dept=\"hr\")"
   ]
  },
  {
   "cell_type": "code",
   "execution_count": 30,
   "id": "c61ce020",
   "metadata": {},
   "outputs": [],
   "source": [
    "def func2(**kwargs):\n",
    "    print(kwargs.keys())\n",
    "    print(kwargs.values())"
   ]
  },
  {
   "cell_type": "code",
   "execution_count": 31,
   "id": "1ac9b80f",
   "metadata": {},
   "outputs": [
    {
     "name": "stdout",
     "output_type": "stream",
     "text": [
      "dict_keys(['ids', 'depts'])\n",
      "dict_values([[101, 201, 301], ('hr', 'sales', 'marketing')])\n"
     ]
    }
   ],
   "source": [
    "func2(ids=[101,201,301],depts=(\"hr\",\"sales\",\"marketing\"))"
   ]
  },
  {
   "cell_type": "markdown",
   "id": "0d4f5779",
   "metadata": {},
   "source": [
    "## Write a function that returns the length of input items passed to it"
   ]
  },
  {
   "cell_type": "code",
   "execution_count": 32,
   "id": "13aa1bac",
   "metadata": {},
   "outputs": [
    {
     "data": {
      "text/plain": [
       "[101, 'Raman', 'IT']"
      ]
     },
     "execution_count": 32,
     "metadata": {},
     "output_type": "execute_result"
    }
   ],
   "source": [
    "employee1"
   ]
  },
  {
   "cell_type": "code",
   "execution_count": 35,
   "id": "fd5ef5c1",
   "metadata": {},
   "outputs": [],
   "source": [
    "employee2.append(67000)"
   ]
  },
  {
   "cell_type": "code",
   "execution_count": 36,
   "id": "51a9089c",
   "metadata": {},
   "outputs": [
    {
     "data": {
      "text/plain": [
       "[102, 'Thaman', 'IT', 67000]"
      ]
     },
     "execution_count": 36,
     "metadata": {},
     "output_type": "execute_result"
    }
   ],
   "source": [
    "employee2"
   ]
  },
  {
   "cell_type": "code",
   "execution_count": 37,
   "id": "882c4bf8",
   "metadata": {},
   "outputs": [],
   "source": [
    "employee3.append(76000)"
   ]
  },
  {
   "cell_type": "code",
   "execution_count": 38,
   "id": "d6d011bf",
   "metadata": {},
   "outputs": [],
   "source": [
    "employee3.append(True)"
   ]
  },
  {
   "cell_type": "code",
   "execution_count": 39,
   "id": "103cb327",
   "metadata": {},
   "outputs": [
    {
     "data": {
      "text/plain": [
       "[103, 'Suman', 'IT', 76000, True]"
      ]
     },
     "execution_count": 39,
     "metadata": {},
     "output_type": "execute_result"
    }
   ],
   "source": [
    "employee3"
   ]
  },
  {
   "cell_type": "code",
   "execution_count": 41,
   "id": "4e2125b4",
   "metadata": {},
   "outputs": [
    {
     "data": {
      "text/plain": [
       "{'emp': 101, 'dept': 'HR'}"
      ]
     },
     "execution_count": 41,
     "metadata": {},
     "output_type": "execute_result"
    }
   ],
   "source": [
    "dct"
   ]
  },
  {
   "cell_type": "code",
   "execution_count": 44,
   "id": "fe1e9235",
   "metadata": {},
   "outputs": [
    {
     "name": "stdout",
     "output_type": "stream",
     "text": [
      "key is : emp\n",
      "value is 101\n",
      "key is : dept\n",
      "value is HR\n"
     ]
    }
   ],
   "source": [
    "for k,v in dct.items():\n",
    "    print(f\"key is : {k}\")\n",
    "    print(f\"value is {v}\")"
   ]
  },
  {
   "cell_type": "code",
   "execution_count": null,
   "id": "04300b6e",
   "metadata": {},
   "outputs": [],
   "source": [
    "def len_data(**kwargs):\n",
    "    dct = {}\n",
    "    for key,data in kwargs.items():\n",
    "        dct[key] = len(data)\n",
    "        # dct[emp1]=len(employee1)\n",
    "        # dct[emp2]=len(employee2)\n",
    "        # dct[emp3] = len(employee3)\n",
    "    return dct\n",
    "    # dct.items() : ((emp1,3),(emp2,4),(emp3,5))"
   ]
  },
  {
   "cell_type": "code",
   "execution_count": 45,
   "id": "e8f3015c",
   "metadata": {},
   "outputs": [
    {
     "data": {
      "text/plain": [
       "{'emp1': 3, 'emp2': 4, 'emp3': 5}"
      ]
     },
     "execution_count": 45,
     "metadata": {},
     "output_type": "execute_result"
    }
   ],
   "source": [
    "len_data(emp1=employee1,emp2=employee2,emp3=employee3)"
   ]
  },
  {
   "cell_type": "code",
   "execution_count": null,
   "id": "dd4d6991",
   "metadata": {},
   "outputs": [],
   "source": []
  }
 ],
 "metadata": {
  "kernelspec": {
   "display_name": "venv",
   "language": "python",
   "name": "python3"
  },
  "language_info": {
   "codemirror_mode": {
    "name": "ipython",
    "version": 3
   },
   "file_extension": ".py",
   "mimetype": "text/x-python",
   "name": "python",
   "nbconvert_exporter": "python",
   "pygments_lexer": "ipython3",
   "version": "3.12.0"
  }
 },
 "nbformat": 4,
 "nbformat_minor": 5
}
