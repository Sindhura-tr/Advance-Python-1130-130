{
 "cells": [
  {
   "cell_type": "markdown",
   "id": "dd0c20a9",
   "metadata": {},
   "source": [
    "## Functions"
   ]
  },
  {
   "cell_type": "code",
   "execution_count": 1,
   "id": "ead3fa1f",
   "metadata": {},
   "outputs": [],
   "source": [
    "def add(x,y):\n",
    "    \"\"\"\n",
    "    This function takes 2 parameters are inputs and returns addition of both parameters\n",
    "    \"\"\"\n",
    "    c = x+y\n",
    "    return c"
   ]
  },
  {
   "cell_type": "code",
   "execution_count": 2,
   "id": "715c9bb9",
   "metadata": {},
   "outputs": [],
   "source": [
    "a1 = add(34,56)"
   ]
  },
  {
   "cell_type": "code",
   "execution_count": 3,
   "id": "b9f27353",
   "metadata": {},
   "outputs": [
    {
     "name": "stdout",
     "output_type": "stream",
     "text": [
      "90\n"
     ]
    }
   ],
   "source": [
    "print(a1)"
   ]
  },
  {
   "cell_type": "code",
   "execution_count": 4,
   "id": "dc788748",
   "metadata": {},
   "outputs": [
    {
     "data": {
      "text/plain": [
       "112"
      ]
     },
     "execution_count": 4,
     "metadata": {},
     "output_type": "execute_result"
    }
   ],
   "source": [
    "add(45,67)"
   ]
  },
  {
   "cell_type": "markdown",
   "id": "551ace6e",
   "metadata": {},
   "source": [
    "## Variadic Functions"
   ]
  },
  {
   "cell_type": "code",
   "execution_count": 5,
   "id": "914d27c9",
   "metadata": {},
   "outputs": [
    {
     "data": {
      "text/plain": [
       "145"
      ]
     },
     "execution_count": 5,
     "metadata": {},
     "output_type": "execute_result"
    }
   ],
   "source": [
    "add(56,89)"
   ]
  },
  {
   "cell_type": "code",
   "execution_count": 6,
   "id": "18ba471b",
   "metadata": {},
   "outputs": [],
   "source": [
    "#add(78,67,56,45)"
   ]
  },
  {
   "cell_type": "code",
   "execution_count": 7,
   "id": "912ff8d3",
   "metadata": {},
   "outputs": [],
   "source": [
    "def add1(*args):\n",
    "    for i in args:\n",
    "        print(i)"
   ]
  },
  {
   "cell_type": "code",
   "execution_count": 8,
   "id": "87a87f13",
   "metadata": {},
   "outputs": [
    {
     "name": "stdout",
     "output_type": "stream",
     "text": [
      "45\n",
      "56\n",
      "78\n",
      "89\n"
     ]
    }
   ],
   "source": [
    "add1(45,56,78,89)"
   ]
  },
  {
   "cell_type": "code",
   "execution_count": 9,
   "id": "9af6f5ee",
   "metadata": {},
   "outputs": [],
   "source": [
    "def add2(*args):\n",
    "    s = 0\n",
    "    for i in args:\n",
    "        #print(i)\n",
    "        s = s+i\n",
    "    return s"
   ]
  },
  {
   "cell_type": "code",
   "execution_count": 12,
   "id": "ef1c789d",
   "metadata": {},
   "outputs": [
    {
     "data": {
      "text/plain": [
       "348"
      ]
     },
     "execution_count": 12,
     "metadata": {},
     "output_type": "execute_result"
    }
   ],
   "source": [
    "s1 = add2(45,67,89,23,12,67,45)\n",
    "s1"
   ]
  },
  {
   "cell_type": "code",
   "execution_count": 13,
   "id": "7f290c01",
   "metadata": {},
   "outputs": [],
   "source": [
    "def multiply(x,*args):\n",
    "    \"\"\"\n",
    "    Inputs: X and multiple arguments\n",
    "    Output: Returns a welcome statement along with product of given arguments\n",
    "    \"\"\"\n",
    "    welcome = f\"Welcome {x}\"\n",
    "    p = 1\n",
    "    for i in args:\n",
    "        p = i*p\n",
    "    return f\"{welcome}. Product of given data is {p}\"\n",
    "    #return f\"welcome {x}.Product of given data is {p}\". "
   ]
  },
  {
   "cell_type": "code",
   "execution_count": 14,
   "id": "e8cda2cd",
   "metadata": {},
   "outputs": [],
   "source": [
    "m1 = multiply(\"Raman\",67,78,34,23,34)"
   ]
  },
  {
   "cell_type": "code",
   "execution_count": 15,
   "id": "77382fe7",
   "metadata": {},
   "outputs": [
    {
     "data": {
      "text/plain": [
       "'Welcome Raman. Product of given data is 138948888'"
      ]
     },
     "execution_count": 15,
     "metadata": {},
     "output_type": "execute_result"
    }
   ],
   "source": [
    "m1"
   ]
  },
  {
   "cell_type": "code",
   "execution_count": null,
   "id": "60ea1c42",
   "metadata": {},
   "outputs": [],
   "source": []
  }
 ],
 "metadata": {
  "kernelspec": {
   "display_name": "venv",
   "language": "python",
   "name": "python3"
  },
  "language_info": {
   "codemirror_mode": {
    "name": "ipython",
    "version": 3
   },
   "file_extension": ".py",
   "mimetype": "text/x-python",
   "name": "python",
   "nbconvert_exporter": "python",
   "pygments_lexer": "ipython3",
   "version": "3.12.0"
  }
 },
 "nbformat": 4,
 "nbformat_minor": 5
}
