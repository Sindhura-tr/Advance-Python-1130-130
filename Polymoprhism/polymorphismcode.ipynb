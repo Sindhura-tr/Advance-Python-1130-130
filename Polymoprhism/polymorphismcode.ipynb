{
 "cells": [
  {
   "cell_type": "markdown",
   "id": "d4f1b7f4",
   "metadata": {},
   "source": [
    "## Polymorphism\n",
    "Ability of a function to take multiple forms."
   ]
  },
  {
   "cell_type": "markdown",
   "id": "92d678a5",
   "metadata": {},
   "source": [
    "## Length function"
   ]
  },
  {
   "cell_type": "code",
   "execution_count": 1,
   "id": "ff815aa0",
   "metadata": {},
   "outputs": [],
   "source": [
    "emplist = [\"Raman\",\"Thaman\",90,87.5,760000]\n",
    "emplist2 = (\"Raman\",\"Thaman\",90,87.5,760000)\n",
    "welcome = \"Hi Welcome to this class.\"\n",
    "empdata ={\n",
    "    \"ids\":[23,45,67],\n",
    "    \"names\":[\"Sindhu\",\"Bindhu\",\"Nandu\"]\n",
    "}"
   ]
  },
  {
   "cell_type": "code",
   "execution_count": null,
   "id": "3a9ebfd0",
   "metadata": {},
   "outputs": [
    {
     "data": {
      "text/plain": [
       "5"
      ]
     },
     "execution_count": 2,
     "metadata": {},
     "output_type": "execute_result"
    }
   ],
   "source": [
    "# returns length of elements present in the list\n",
    "len(emplist)"
   ]
  },
  {
   "cell_type": "code",
   "execution_count": null,
   "id": "48932805",
   "metadata": {},
   "outputs": [
    {
     "data": {
      "text/plain": [
       "5"
      ]
     },
     "execution_count": 3,
     "metadata": {},
     "output_type": "execute_result"
    }
   ],
   "source": [
    "# returns length of elements present in the tuple\n",
    "len(emplist2)"
   ]
  },
  {
   "cell_type": "code",
   "execution_count": null,
   "id": "670340e2",
   "metadata": {},
   "outputs": [
    {
     "data": {
      "text/plain": [
       "25"
      ]
     },
     "execution_count": 4,
     "metadata": {},
     "output_type": "execute_result"
    }
   ],
   "source": [
    "# returns length of characters present in the string\n",
    "len(welcome)"
   ]
  },
  {
   "cell_type": "code",
   "execution_count": null,
   "id": "c2db818b",
   "metadata": {},
   "outputs": [
    {
     "data": {
      "text/plain": [
       "2"
      ]
     },
     "execution_count": 5,
     "metadata": {},
     "output_type": "execute_result"
    }
   ],
   "source": [
    "# returns length of keys present in the dictionary\n",
    "len(empdata)"
   ]
  },
  {
   "cell_type": "code",
   "execution_count": 6,
   "id": "e9430313",
   "metadata": {},
   "outputs": [
    {
     "data": {
      "text/plain": [
       "dict_keys(['ids', 'names'])"
      ]
     },
     "execution_count": 6,
     "metadata": {},
     "output_type": "execute_result"
    }
   ],
   "source": [
    "empdata.keys()"
   ]
  },
  {
   "cell_type": "markdown",
   "id": "b194c3ec",
   "metadata": {},
   "source": [
    "## + operator"
   ]
  },
  {
   "cell_type": "code",
   "execution_count": null,
   "id": "698afcb6",
   "metadata": {},
   "outputs": [
    {
     "data": {
      "text/plain": [
       "146"
      ]
     },
     "execution_count": 7,
     "metadata": {},
     "output_type": "execute_result"
    }
   ],
   "source": [
    "# returns addition of 2 numbers provided\n",
    "56 + 90"
   ]
  },
  {
   "cell_type": "code",
   "execution_count": 8,
   "id": "0bd4606d",
   "metadata": {},
   "outputs": [
    {
     "data": {
      "text/plain": [
       "171.0"
      ]
     },
     "execution_count": 8,
     "metadata": {},
     "output_type": "execute_result"
    }
   ],
   "source": [
    "# returns addition of 2 numbers provided\n",
    "90.85 + 80.15"
   ]
  },
  {
   "cell_type": "code",
   "execution_count": 9,
   "id": "bd7c25f9",
   "metadata": {},
   "outputs": [
    {
     "data": {
      "text/plain": [
       "'RamanThaman'"
      ]
     },
     "execution_count": 9,
     "metadata": {},
     "output_type": "execute_result"
    }
   ],
   "source": [
    "# returns concatenation of 2 strings\n",
    "\"Raman\" + \"Thaman\""
   ]
  },
  {
   "cell_type": "code",
   "execution_count": 10,
   "id": "66c97d21",
   "metadata": {},
   "outputs": [
    {
     "data": {
      "text/plain": [
       "'Raman Thaman'"
      ]
     },
     "execution_count": 10,
     "metadata": {},
     "output_type": "execute_result"
    }
   ],
   "source": [
    "\"Raman\" + \" \" + \"Thaman\""
   ]
  },
  {
   "cell_type": "code",
   "execution_count": 11,
   "id": "a9ce5437",
   "metadata": {},
   "outputs": [
    {
     "data": {
      "text/plain": [
       "[3, 4, 5, 7, 8, 9]"
      ]
     },
     "execution_count": 11,
     "metadata": {},
     "output_type": "execute_result"
    }
   ],
   "source": [
    "# returns merged lists\n",
    "[3,4,5] + [7,8,9]"
   ]
  },
  {
   "cell_type": "markdown",
   "id": "64bb86e6",
   "metadata": {},
   "source": [
    "## User defined polymorphism scenarios"
   ]
  },
  {
   "cell_type": "code",
   "execution_count": 12,
   "id": "28a93028",
   "metadata": {},
   "outputs": [],
   "source": [
    "class India:\n",
    "    def capital(self):\n",
    "        print(\"Delhi is the capital of India\")\n",
    "    \n",
    "    def language(self):\n",
    "        print(\"Hindi and English are widely spoken languages in India\")\n"
   ]
  },
  {
   "cell_type": "code",
   "execution_count": 14,
   "id": "269e6e82",
   "metadata": {},
   "outputs": [],
   "source": [
    "class USA:\n",
    "    def capital(self):\n",
    "        print(\"Washington D.C is the capital of USA\")\n",
    "    \n",
    "    def language(self):\n",
    "        print(\"English is the widely spoken languages in USA\")"
   ]
  },
  {
   "cell_type": "code",
   "execution_count": 15,
   "id": "98b1f78d",
   "metadata": {},
   "outputs": [],
   "source": [
    "person1 = India()\n",
    "person2 = USA()"
   ]
  },
  {
   "cell_type": "code",
   "execution_count": 16,
   "id": "fb8471c0",
   "metadata": {},
   "outputs": [
    {
     "name": "stdout",
     "output_type": "stream",
     "text": [
      "Delhi is the capital of India\n"
     ]
    }
   ],
   "source": [
    "person1.capital()"
   ]
  },
  {
   "cell_type": "code",
   "execution_count": 17,
   "id": "a197ea93",
   "metadata": {},
   "outputs": [
    {
     "name": "stdout",
     "output_type": "stream",
     "text": [
      "Washington D.C is the capital of USA\n"
     ]
    }
   ],
   "source": [
    "person2.capital()"
   ]
  },
  {
   "cell_type": "code",
   "execution_count": 18,
   "id": "2b6963cd",
   "metadata": {},
   "outputs": [
    {
     "name": "stdout",
     "output_type": "stream",
     "text": [
      "Hindi and English are widely spoken languages in India\n"
     ]
    }
   ],
   "source": [
    "person1.language()"
   ]
  },
  {
   "cell_type": "code",
   "execution_count": 19,
   "id": "959df936",
   "metadata": {},
   "outputs": [
    {
     "name": "stdout",
     "output_type": "stream",
     "text": [
      "English is the widely spoken languages in USA\n"
     ]
    }
   ],
   "source": [
    "person2.language()"
   ]
  },
  {
   "cell_type": "markdown",
   "id": "67b0a932",
   "metadata": {},
   "source": [
    "## Data Analysis - Scenario\n",
    "    Read the dataset\n",
    "    perform basic data quality checks-missing data/duplicated data\n",
    "    Data cleaning\n",
    "    Data Visualiation - Seaborn,matplolib and pandas\n"
   ]
  },
  {
   "cell_type": "code",
   "execution_count": 22,
   "id": "94477b77",
   "metadata": {},
   "outputs": [
    {
     "data": {
      "text/html": [
       "<div>\n",
       "<style scoped>\n",
       "    .dataframe tbody tr th:only-of-type {\n",
       "        vertical-align: middle;\n",
       "    }\n",
       "\n",
       "    .dataframe tbody tr th {\n",
       "        vertical-align: top;\n",
       "    }\n",
       "\n",
       "    .dataframe thead th {\n",
       "        text-align: right;\n",
       "    }\n",
       "</style>\n",
       "<table border=\"1\" class=\"dataframe\">\n",
       "  <thead>\n",
       "    <tr style=\"text-align: right;\">\n",
       "      <th></th>\n",
       "      <th>id</th>\n",
       "      <th>Manufacturer</th>\n",
       "      <th>Model</th>\n",
       "      <th>Type</th>\n",
       "      <th>Min.Price</th>\n",
       "      <th>Price</th>\n",
       "      <th>Max.Price</th>\n",
       "      <th>MPG.city</th>\n",
       "      <th>MPG.highway</th>\n",
       "      <th>AirBags</th>\n",
       "      <th>...</th>\n",
       "      <th>Passengers</th>\n",
       "      <th>Length</th>\n",
       "      <th>Wheelbase</th>\n",
       "      <th>Width</th>\n",
       "      <th>Turn.circle</th>\n",
       "      <th>Rear.seat.room</th>\n",
       "      <th>Luggage.room</th>\n",
       "      <th>Weight</th>\n",
       "      <th>Origin</th>\n",
       "      <th>Make</th>\n",
       "    </tr>\n",
       "  </thead>\n",
       "  <tbody>\n",
       "    <tr>\n",
       "      <th>0</th>\n",
       "      <td>1</td>\n",
       "      <td>Acura</td>\n",
       "      <td>Integra</td>\n",
       "      <td>Small</td>\n",
       "      <td>12.9</td>\n",
       "      <td>15.9</td>\n",
       "      <td>18.8</td>\n",
       "      <td>25</td>\n",
       "      <td>31</td>\n",
       "      <td>None</td>\n",
       "      <td>...</td>\n",
       "      <td>5</td>\n",
       "      <td>177</td>\n",
       "      <td>102</td>\n",
       "      <td>68</td>\n",
       "      <td>37</td>\n",
       "      <td>26.5</td>\n",
       "      <td>11.0</td>\n",
       "      <td>2705</td>\n",
       "      <td>non-USA</td>\n",
       "      <td>Acura Integra</td>\n",
       "    </tr>\n",
       "    <tr>\n",
       "      <th>1</th>\n",
       "      <td>2</td>\n",
       "      <td>Acura</td>\n",
       "      <td>Legend</td>\n",
       "      <td>Midsize</td>\n",
       "      <td>29.2</td>\n",
       "      <td>33.9</td>\n",
       "      <td>38.7</td>\n",
       "      <td>18</td>\n",
       "      <td>25</td>\n",
       "      <td>Driver &amp; Passenger</td>\n",
       "      <td>...</td>\n",
       "      <td>5</td>\n",
       "      <td>195</td>\n",
       "      <td>115</td>\n",
       "      <td>71</td>\n",
       "      <td>38</td>\n",
       "      <td>30.0</td>\n",
       "      <td>15.0</td>\n",
       "      <td>3560</td>\n",
       "      <td>non-USA</td>\n",
       "      <td>Acura Legend</td>\n",
       "    </tr>\n",
       "    <tr>\n",
       "      <th>2</th>\n",
       "      <td>3</td>\n",
       "      <td>Audi</td>\n",
       "      <td>90</td>\n",
       "      <td>Compact</td>\n",
       "      <td>25.9</td>\n",
       "      <td>29.1</td>\n",
       "      <td>32.3</td>\n",
       "      <td>20</td>\n",
       "      <td>26</td>\n",
       "      <td>Driver only</td>\n",
       "      <td>...</td>\n",
       "      <td>5</td>\n",
       "      <td>180</td>\n",
       "      <td>102</td>\n",
       "      <td>67</td>\n",
       "      <td>37</td>\n",
       "      <td>28.0</td>\n",
       "      <td>14.0</td>\n",
       "      <td>3375</td>\n",
       "      <td>non-USA</td>\n",
       "      <td>Audi 90</td>\n",
       "    </tr>\n",
       "    <tr>\n",
       "      <th>3</th>\n",
       "      <td>4</td>\n",
       "      <td>Audi</td>\n",
       "      <td>100</td>\n",
       "      <td>Midsize</td>\n",
       "      <td>30.8</td>\n",
       "      <td>37.7</td>\n",
       "      <td>44.6</td>\n",
       "      <td>19</td>\n",
       "      <td>26</td>\n",
       "      <td>NaN</td>\n",
       "      <td>...</td>\n",
       "      <td>6</td>\n",
       "      <td>193</td>\n",
       "      <td>106</td>\n",
       "      <td>70</td>\n",
       "      <td>37</td>\n",
       "      <td>31.0</td>\n",
       "      <td>17.0</td>\n",
       "      <td>3405</td>\n",
       "      <td>non-USA</td>\n",
       "      <td>Audi 100</td>\n",
       "    </tr>\n",
       "    <tr>\n",
       "      <th>4</th>\n",
       "      <td>5</td>\n",
       "      <td>BMW</td>\n",
       "      <td>535i</td>\n",
       "      <td>Midsize</td>\n",
       "      <td>23.7</td>\n",
       "      <td>30.0</td>\n",
       "      <td>36.2</td>\n",
       "      <td>22</td>\n",
       "      <td>30</td>\n",
       "      <td>Driver only</td>\n",
       "      <td>...</td>\n",
       "      <td>4</td>\n",
       "      <td>186</td>\n",
       "      <td>109</td>\n",
       "      <td>69</td>\n",
       "      <td>39</td>\n",
       "      <td>27.0</td>\n",
       "      <td>13.0</td>\n",
       "      <td>3640</td>\n",
       "      <td>non-USA</td>\n",
       "      <td>BMW 535i</td>\n",
       "    </tr>\n",
       "  </tbody>\n",
       "</table>\n",
       "<p>5 rows × 28 columns</p>\n",
       "</div>"
      ],
      "text/plain": [
       "   id Manufacturer    Model     Type  Min.Price  Price  Max.Price  MPG.city  \\\n",
       "0   1        Acura  Integra    Small       12.9   15.9       18.8        25   \n",
       "1   2        Acura   Legend  Midsize       29.2   33.9       38.7        18   \n",
       "2   3         Audi       90  Compact       25.9   29.1       32.3        20   \n",
       "3   4         Audi      100  Midsize       30.8   37.7       44.6        19   \n",
       "4   5          BMW     535i  Midsize       23.7   30.0       36.2        22   \n",
       "\n",
       "   MPG.highway             AirBags  ... Passengers Length  Wheelbase  Width  \\\n",
       "0           31                None  ...          5    177        102     68   \n",
       "1           25  Driver & Passenger  ...          5    195        115     71   \n",
       "2           26         Driver only  ...          5    180        102     67   \n",
       "3           26                 NaN  ...          6    193        106     70   \n",
       "4           30         Driver only  ...          4    186        109     69   \n",
       "\n",
       "   Turn.circle  Rear.seat.room Luggage.room  Weight   Origin           Make  \n",
       "0           37            26.5         11.0    2705  non-USA  Acura Integra  \n",
       "1           38            30.0         15.0    3560  non-USA   Acura Legend  \n",
       "2           37            28.0         14.0    3375  non-USA        Audi 90  \n",
       "3           37            31.0         17.0    3405  non-USA       Audi 100  \n",
       "4           39            27.0         13.0    3640  non-USA       BMW 535i  \n",
       "\n",
       "[5 rows x 28 columns]"
      ]
     },
     "execution_count": 22,
     "metadata": {},
     "output_type": "execute_result"
    }
   ],
   "source": [
    "import pandas as pd\n",
    "path = r\"C:\\Users\\admin\\Documents\\Sindhura\\LMS Basic Python and DA\\datasets\\Cars93.csv\"\n",
    "df = pd.read_csv(path,na_values=[\"NA\",\"\"],keep_default_na=False)\n",
    "df.head()"
   ]
  },
  {
   "cell_type": "code",
   "execution_count": 24,
   "id": "ab59cb5c",
   "metadata": {},
   "outputs": [
    {
     "data": {
      "text/plain": [
       "AirBags            4\n",
       "Rear.seat.room     2\n",
       "Luggage.room      11\n",
       "dtype: int64"
      ]
     },
     "execution_count": 24,
     "metadata": {},
     "output_type": "execute_result"
    }
   ],
   "source": [
    "s = df.isna().sum()\n",
    "s[s>0]"
   ]
  },
  {
   "cell_type": "code",
   "execution_count": 25,
   "id": "68f57ce6",
   "metadata": {},
   "outputs": [],
   "source": [
    "# Separate cat and con features\n",
    "cat = list(df.columns[df.dtypes==\"object\"])\n",
    "con =  list(df.columns[df.dtypes!=\"object\"])"
   ]
  },
  {
   "cell_type": "markdown",
   "id": "fef285b0",
   "metadata": {},
   "source": [
    "## Data cleaning "
   ]
  },
  {
   "cell_type": "code",
   "execution_count": 27,
   "id": "c8fe9dd7",
   "metadata": {},
   "outputs": [
    {
     "data": {
      "text/plain": [
       "np.float64(13.890243902439025)"
      ]
     },
     "execution_count": 27,
     "metadata": {},
     "output_type": "execute_result"
    }
   ],
   "source": [
    "df[\"Luggage.room\"].mean()"
   ]
  },
  {
   "cell_type": "code",
   "execution_count": null,
   "id": "6d2f80fc",
   "metadata": {},
   "outputs": [
    {
     "data": {
      "text/plain": [
       "0    Driver only\n",
       "Name: AirBags, dtype: object"
      ]
     },
     "execution_count": 30,
     "metadata": {},
     "output_type": "execute_result"
    }
   ],
   "source": [
    "df[\"AirBags\"].mode()"
   ]
  },
  {
   "cell_type": "code",
   "execution_count": 31,
   "id": "6d416d1a",
   "metadata": {},
   "outputs": [
    {
     "data": {
      "text/plain": [
       "'Driver only'"
      ]
     },
     "execution_count": 31,
     "metadata": {},
     "output_type": "execute_result"
    }
   ],
   "source": [
    "df[\"AirBags\"].mode()[0]"
   ]
  },
  {
   "cell_type": "code",
   "execution_count": 35,
   "id": "3f71b228",
   "metadata": {},
   "outputs": [],
   "source": [
    "class handle_missing_data_con:\n",
    "    # create instance attributes\n",
    "    def __init__(self,data):\n",
    "        self.data = data\n",
    "    \n",
    "    # create a method that handles missing data for continuous features\n",
    "    def handle_data(self):\n",
    "        mn = self.data.mean()\n",
    "        self.data = self.data.fillna(mn)\n",
    "        print(\"Missing values are handled for continuous features\")"
   ]
  },
  {
   "cell_type": "code",
   "execution_count": 36,
   "id": "11d0ed33",
   "metadata": {},
   "outputs": [],
   "source": [
    "class handle_missing_data_cat:\n",
    "    # create instance attributes\n",
    "    def __init__(self,data):\n",
    "        self.data = data\n",
    "\n",
    "    def handle_data(self):\n",
    "        mode = self.data.mode()[0]\n",
    "        self.data = self.data.fillna(mode) \n",
    "        print(\"Missing values are handled for Categrical features\")"
   ]
  },
  {
   "cell_type": "code",
   "execution_count": 33,
   "id": "a39b8d69",
   "metadata": {},
   "outputs": [
    {
     "data": {
      "text/plain": [
       "['Manufacturer',\n",
       " 'Model',\n",
       " 'Type',\n",
       " 'AirBags',\n",
       " 'DriveTrain',\n",
       " 'Cylinders',\n",
       " 'Man.trans.avail',\n",
       " 'Origin',\n",
       " 'Make']"
      ]
     },
     "execution_count": 33,
     "metadata": {},
     "output_type": "execute_result"
    }
   ],
   "source": [
    "cat"
   ]
  },
  {
   "cell_type": "code",
   "execution_count": 34,
   "id": "afb679c0",
   "metadata": {},
   "outputs": [
    {
     "data": {
      "text/plain": [
       "['id',\n",
       " 'Min.Price',\n",
       " 'Price',\n",
       " 'Max.Price',\n",
       " 'MPG.city',\n",
       " 'MPG.highway',\n",
       " 'EngineSize',\n",
       " 'Horsepower',\n",
       " 'RPM',\n",
       " 'Rev.per.mile',\n",
       " 'Fuel.tank.capacity',\n",
       " 'Passengers',\n",
       " 'Length',\n",
       " 'Wheelbase',\n",
       " 'Width',\n",
       " 'Turn.circle',\n",
       " 'Rear.seat.room',\n",
       " 'Luggage.room',\n",
       " 'Weight']"
      ]
     },
     "execution_count": 34,
     "metadata": {},
     "output_type": "execute_result"
    }
   ],
   "source": [
    "con"
   ]
  },
  {
   "cell_type": "code",
   "execution_count": 37,
   "id": "f67a55e7",
   "metadata": {},
   "outputs": [],
   "source": [
    "insta1 = handle_missing_data_con(df[\"Rear.seat.room\"])"
   ]
  },
  {
   "cell_type": "code",
   "execution_count": 38,
   "id": "4c8b9846",
   "metadata": {},
   "outputs": [
    {
     "name": "stdout",
     "output_type": "stream",
     "text": [
      "Missing values are handled for continuous features\n"
     ]
    }
   ],
   "source": [
    "insta1.handle_data()"
   ]
  },
  {
   "cell_type": "code",
   "execution_count": 41,
   "id": "eadfbe32",
   "metadata": {},
   "outputs": [],
   "source": [
    "con_missing = [\"Luggage.room\",\"Rear.seat.room\"]"
   ]
  },
  {
   "cell_type": "code",
   "execution_count": 43,
   "id": "3d80836c",
   "metadata": {},
   "outputs": [
    {
     "name": "stdout",
     "output_type": "stream",
     "text": [
      "Missing values are handled for continuous features\n",
      "Missing values are handled for continuous features\n"
     ]
    }
   ],
   "source": [
    "for i in con_missing:\n",
    "    inst= handle_missing_data_con(df[i])\n",
    "    inst.handle_data()"
   ]
  },
  {
   "cell_type": "code",
   "execution_count": 44,
   "id": "2871cf31",
   "metadata": {},
   "outputs": [],
   "source": [
    "inst2 = handle_missing_data_cat(df[\"AirBags\"])"
   ]
  },
  {
   "cell_type": "code",
   "execution_count": 45,
   "id": "8b598009",
   "metadata": {},
   "outputs": [
    {
     "name": "stdout",
     "output_type": "stream",
     "text": [
      "Missing values are handled for Categrical features\n"
     ]
    }
   ],
   "source": [
    "inst2.handle_data()"
   ]
  },
  {
   "cell_type": "code",
   "execution_count": null,
   "id": "ebfdf499",
   "metadata": {},
   "outputs": [],
   "source": []
  }
 ],
 "metadata": {
  "kernelspec": {
   "display_name": "venv",
   "language": "python",
   "name": "python3"
  },
  "language_info": {
   "codemirror_mode": {
    "name": "ipython",
    "version": 3
   },
   "file_extension": ".py",
   "mimetype": "text/x-python",
   "name": "python",
   "nbconvert_exporter": "python",
   "pygments_lexer": "ipython3",
   "version": "3.12.0"
  }
 },
 "nbformat": 4,
 "nbformat_minor": 5
}
