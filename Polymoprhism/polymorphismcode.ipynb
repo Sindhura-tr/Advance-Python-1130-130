{
 "cells": [
  {
   "cell_type": "markdown",
   "id": "d4f1b7f4",
   "metadata": {},
   "source": [
    "## Polymorphism\n",
    "Ability of a function to take multiple forms."
   ]
  },
  {
   "cell_type": "markdown",
   "id": "92d678a5",
   "metadata": {},
   "source": [
    "## Length function"
   ]
  },
  {
   "cell_type": "code",
   "execution_count": 1,
   "id": "ff815aa0",
   "metadata": {},
   "outputs": [],
   "source": [
    "emplist = [\"Raman\",\"Thaman\",90,87.5,760000]\n",
    "emplist2 = (\"Raman\",\"Thaman\",90,87.5,760000)\n",
    "welcome = \"Hi Welcome to this class.\"\n",
    "empdata ={\n",
    "    \"ids\":[23,45,67],\n",
    "    \"names\":[\"Sindhu\",\"Bindhu\",\"Nandu\"]\n",
    "}"
   ]
  },
  {
   "cell_type": "code",
   "execution_count": null,
   "id": "3a9ebfd0",
   "metadata": {},
   "outputs": [
    {
     "data": {
      "text/plain": [
       "5"
      ]
     },
     "execution_count": 2,
     "metadata": {},
     "output_type": "execute_result"
    }
   ],
   "source": [
    "# returns length of elements present in the list\n",
    "len(emplist)"
   ]
  },
  {
   "cell_type": "code",
   "execution_count": null,
   "id": "48932805",
   "metadata": {},
   "outputs": [
    {
     "data": {
      "text/plain": [
       "5"
      ]
     },
     "execution_count": 3,
     "metadata": {},
     "output_type": "execute_result"
    }
   ],
   "source": [
    "# returns length of elements present in the tuple\n",
    "len(emplist2)"
   ]
  },
  {
   "cell_type": "code",
   "execution_count": null,
   "id": "670340e2",
   "metadata": {},
   "outputs": [
    {
     "data": {
      "text/plain": [
       "25"
      ]
     },
     "execution_count": 4,
     "metadata": {},
     "output_type": "execute_result"
    }
   ],
   "source": [
    "# returns length of characters present in the string\n",
    "len(welcome)"
   ]
  },
  {
   "cell_type": "code",
   "execution_count": null,
   "id": "c2db818b",
   "metadata": {},
   "outputs": [
    {
     "data": {
      "text/plain": [
       "2"
      ]
     },
     "execution_count": 5,
     "metadata": {},
     "output_type": "execute_result"
    }
   ],
   "source": [
    "# returns length of keys present in the dictionary\n",
    "len(empdata)"
   ]
  },
  {
   "cell_type": "code",
   "execution_count": 6,
   "id": "e9430313",
   "metadata": {},
   "outputs": [
    {
     "data": {
      "text/plain": [
       "dict_keys(['ids', 'names'])"
      ]
     },
     "execution_count": 6,
     "metadata": {},
     "output_type": "execute_result"
    }
   ],
   "source": [
    "empdata.keys()"
   ]
  },
  {
   "cell_type": "markdown",
   "id": "b194c3ec",
   "metadata": {},
   "source": [
    "## + operator"
   ]
  },
  {
   "cell_type": "code",
   "execution_count": null,
   "id": "698afcb6",
   "metadata": {},
   "outputs": [
    {
     "data": {
      "text/plain": [
       "146"
      ]
     },
     "execution_count": 7,
     "metadata": {},
     "output_type": "execute_result"
    }
   ],
   "source": [
    "# returns addition of 2 numbers provided\n",
    "56 + 90"
   ]
  },
  {
   "cell_type": "code",
   "execution_count": 8,
   "id": "0bd4606d",
   "metadata": {},
   "outputs": [
    {
     "data": {
      "text/plain": [
       "171.0"
      ]
     },
     "execution_count": 8,
     "metadata": {},
     "output_type": "execute_result"
    }
   ],
   "source": [
    "# returns addition of 2 numbers provided\n",
    "90.85 + 80.15"
   ]
  },
  {
   "cell_type": "code",
   "execution_count": 9,
   "id": "bd7c25f9",
   "metadata": {},
   "outputs": [
    {
     "data": {
      "text/plain": [
       "'RamanThaman'"
      ]
     },
     "execution_count": 9,
     "metadata": {},
     "output_type": "execute_result"
    }
   ],
   "source": [
    "# returns concatenation of 2 strings\n",
    "\"Raman\" + \"Thaman\""
   ]
  },
  {
   "cell_type": "code",
   "execution_count": 10,
   "id": "66c97d21",
   "metadata": {},
   "outputs": [
    {
     "data": {
      "text/plain": [
       "'Raman Thaman'"
      ]
     },
     "execution_count": 10,
     "metadata": {},
     "output_type": "execute_result"
    }
   ],
   "source": [
    "\"Raman\" + \" \" + \"Thaman\""
   ]
  },
  {
   "cell_type": "code",
   "execution_count": 11,
   "id": "a9ce5437",
   "metadata": {},
   "outputs": [
    {
     "data": {
      "text/plain": [
       "[3, 4, 5, 7, 8, 9]"
      ]
     },
     "execution_count": 11,
     "metadata": {},
     "output_type": "execute_result"
    }
   ],
   "source": [
    "# returns merged lists\n",
    "[3,4,5] + [7,8,9]"
   ]
  },
  {
   "cell_type": "markdown",
   "id": "64bb86e6",
   "metadata": {},
   "source": [
    "## User defined polymorphism scenarios"
   ]
  },
  {
   "cell_type": "code",
   "execution_count": 12,
   "id": "28a93028",
   "metadata": {},
   "outputs": [],
   "source": [
    "class India:\n",
    "    def capital(self):\n",
    "        print(\"Delhi is the capital of India\")\n",
    "    \n",
    "    def language(self):\n",
    "        print(\"Hindi and English are widely spoken languages in India\")\n"
   ]
  },
  {
   "cell_type": "code",
   "execution_count": 14,
   "id": "269e6e82",
   "metadata": {},
   "outputs": [],
   "source": [
    "class USA:\n",
    "    def capital(self):\n",
    "        print(\"Washington D.C is the capital of USA\")\n",
    "    \n",
    "    def language(self):\n",
    "        print(\"English is the widely spoken languages in USA\")"
   ]
  },
  {
   "cell_type": "code",
   "execution_count": 15,
   "id": "98b1f78d",
   "metadata": {},
   "outputs": [],
   "source": [
    "person1 = India()\n",
    "person2 = USA()"
   ]
  },
  {
   "cell_type": "code",
   "execution_count": 16,
   "id": "fb8471c0",
   "metadata": {},
   "outputs": [
    {
     "name": "stdout",
     "output_type": "stream",
     "text": [
      "Delhi is the capital of India\n"
     ]
    }
   ],
   "source": [
    "person1.capital()"
   ]
  },
  {
   "cell_type": "code",
   "execution_count": 17,
   "id": "a197ea93",
   "metadata": {},
   "outputs": [
    {
     "name": "stdout",
     "output_type": "stream",
     "text": [
      "Washington D.C is the capital of USA\n"
     ]
    }
   ],
   "source": [
    "person2.capital()"
   ]
  },
  {
   "cell_type": "code",
   "execution_count": 18,
   "id": "2b6963cd",
   "metadata": {},
   "outputs": [
    {
     "name": "stdout",
     "output_type": "stream",
     "text": [
      "Hindi and English are widely spoken languages in India\n"
     ]
    }
   ],
   "source": [
    "person1.language()"
   ]
  },
  {
   "cell_type": "code",
   "execution_count": 19,
   "id": "959df936",
   "metadata": {},
   "outputs": [
    {
     "name": "stdout",
     "output_type": "stream",
     "text": [
      "English is the widely spoken languages in USA\n"
     ]
    }
   ],
   "source": [
    "person2.language()"
   ]
  },
  {
   "cell_type": "code",
   "execution_count": null,
   "id": "94477b77",
   "metadata": {},
   "outputs": [],
   "source": []
  }
 ],
 "metadata": {
  "kernelspec": {
   "display_name": "venv",
   "language": "python",
   "name": "python3"
  },
  "language_info": {
   "codemirror_mode": {
    "name": "ipython",
    "version": 3
   },
   "file_extension": ".py",
   "mimetype": "text/x-python",
   "name": "python",
   "nbconvert_exporter": "python",
   "pygments_lexer": "ipython3",
   "version": "3.12.0"
  }
 },
 "nbformat": 4,
 "nbformat_minor": 5
}
