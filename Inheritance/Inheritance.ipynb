{
 "cells": [
  {
   "cell_type": "markdown",
   "id": "9133dc63",
   "metadata": {},
   "source": [
    "## Inheritance"
   ]
  },
  {
   "cell_type": "code",
   "execution_count": 60,
   "id": "90986927",
   "metadata": {},
   "outputs": [],
   "source": [
    "class person:\n",
    "    # Tak 2 inputs from the user for this class.\n",
    "    def __init__(self,name,age):\n",
    "        self.name = name\n",
    "        self.age = age\n",
    "    \n",
    "    # Write a function to introduce the person\n",
    "    def introduce(self):\n",
    "        print(f\"Hi everyone, I am {self.name} and I am {self.age} years old\")"
   ]
  },
  {
   "cell_type": "code",
   "execution_count": 61,
   "id": "a0a383c3",
   "metadata": {},
   "outputs": [],
   "source": [
    "p1 = person(\"Raman\",35)"
   ]
  },
  {
   "cell_type": "code",
   "execution_count": 62,
   "id": "c91b4ade",
   "metadata": {},
   "outputs": [
    {
     "data": {
      "text/plain": [
       "35"
      ]
     },
     "execution_count": 62,
     "metadata": {},
     "output_type": "execute_result"
    }
   ],
   "source": [
    "p1.age"
   ]
  },
  {
   "cell_type": "code",
   "execution_count": 63,
   "id": "6dcbeb50",
   "metadata": {},
   "outputs": [
    {
     "data": {
      "text/plain": [
       "'Raman'"
      ]
     },
     "execution_count": 63,
     "metadata": {},
     "output_type": "execute_result"
    }
   ],
   "source": [
    "p1.name"
   ]
  },
  {
   "cell_type": "code",
   "execution_count": 64,
   "id": "c06a5b89",
   "metadata": {},
   "outputs": [
    {
     "name": "stdout",
     "output_type": "stream",
     "text": [
      "Hi everyone, I am Raman and I am 35 years old\n"
     ]
    }
   ],
   "source": [
    "p1.introduce()"
   ]
  },
  {
   "cell_type": "code",
   "execution_count": 65,
   "id": "48745b9b",
   "metadata": {},
   "outputs": [],
   "source": [
    "class employee(person):\n",
    "    # create attributes for employee class\n",
    "    def __init__(self,company,num):\n",
    "        self.company = company\n",
    "        self.num = num\n",
    "    \n",
    "    # create a function that provides work details of person\n",
    "    def work(self):\n",
    "        print(f\"I am working at {self.company} from past {self.num}years\")\n",
    "        "
   ]
  },
  {
   "cell_type": "code",
   "execution_count": 66,
   "id": "a0a3f974",
   "metadata": {},
   "outputs": [],
   "source": [
    "e2 = employee(\"Wipro\",3)"
   ]
  },
  {
   "cell_type": "code",
   "execution_count": 67,
   "id": "63e89027",
   "metadata": {},
   "outputs": [
    {
     "data": {
      "text/plain": [
       "3"
      ]
     },
     "execution_count": 67,
     "metadata": {},
     "output_type": "execute_result"
    }
   ],
   "source": [
    "e2.num"
   ]
  },
  {
   "cell_type": "code",
   "execution_count": 68,
   "id": "5f6e5305",
   "metadata": {},
   "outputs": [
    {
     "data": {
      "text/plain": [
       "'Wipro'"
      ]
     },
     "execution_count": 68,
     "metadata": {},
     "output_type": "execute_result"
    }
   ],
   "source": [
    "e2.company"
   ]
  },
  {
   "cell_type": "code",
   "execution_count": 69,
   "id": "09359da1",
   "metadata": {},
   "outputs": [],
   "source": [
    "#e2.name"
   ]
  },
  {
   "cell_type": "code",
   "execution_count": 70,
   "id": "a5baacc4",
   "metadata": {},
   "outputs": [],
   "source": [
    "#e2.age"
   ]
  },
  {
   "cell_type": "code",
   "execution_count": 71,
   "id": "0a655c20",
   "metadata": {},
   "outputs": [],
   "source": [
    "#e1 = employee()"
   ]
  },
  {
   "cell_type": "markdown",
   "id": "40c4212a",
   "metadata": {},
   "source": [
    "## All above errors are valid errors. because, we haven't provided any link between parent attributes and child class"
   ]
  },
  {
   "cell_type": "code",
   "execution_count": 72,
   "id": "0ba20cda",
   "metadata": {},
   "outputs": [],
   "source": [
    "class employee2(person):\n",
    "    # create attributes for employee class\n",
    "    def __init__(self, name, age,company,num):\n",
    "        super().__init__(name, age)\n",
    "        # person.__init__(name, age)\n",
    "        self.company = company\n",
    "        self.num = num\n",
    "\n",
    "    '''\n",
    "    def __init__(self,company,num):\n",
    "        self.company = company\n",
    "        self.num = num\n",
    "    '''\n",
    "    \n",
    "    # create a function that provides work details of person\n",
    "    def work(self):\n",
    "        super().introduce()\n",
    "        print(f\"I am working at {self.company} from past {self.num}years\")"
   ]
  },
  {
   "cell_type": "code",
   "execution_count": 73,
   "id": "3c3582e2",
   "metadata": {},
   "outputs": [],
   "source": [
    "e3 = employee2(\"Raman\",45,\"Wipro\",3)"
   ]
  },
  {
   "cell_type": "code",
   "execution_count": 74,
   "id": "dc2410eb",
   "metadata": {},
   "outputs": [
    {
     "data": {
      "text/plain": [
       "45"
      ]
     },
     "execution_count": 74,
     "metadata": {},
     "output_type": "execute_result"
    }
   ],
   "source": [
    "e3.age"
   ]
  },
  {
   "cell_type": "code",
   "execution_count": 75,
   "id": "46fa99b3",
   "metadata": {},
   "outputs": [
    {
     "data": {
      "text/plain": [
       "'Raman'"
      ]
     },
     "execution_count": 75,
     "metadata": {},
     "output_type": "execute_result"
    }
   ],
   "source": [
    "e3.name"
   ]
  },
  {
   "cell_type": "code",
   "execution_count": 76,
   "id": "9a4ad748",
   "metadata": {},
   "outputs": [
    {
     "name": "stdout",
     "output_type": "stream",
     "text": [
      "Hi everyone, I am Raman and I am 45 years old\n",
      "I am working at Wipro from past 3years\n"
     ]
    }
   ],
   "source": [
    "e3.work()"
   ]
  },
  {
   "cell_type": "markdown",
   "id": "9bd677cd",
   "metadata": {},
   "source": [
    "## Multilevel Inheritance"
   ]
  },
  {
   "cell_type": "code",
   "execution_count": 94,
   "id": "d0e54403",
   "metadata": {},
   "outputs": [],
   "source": [
    "#parent class\n",
    "class emp:\n",
    "    def __init__(self,name,employee_id):\n",
    "        self.name = name\n",
    "        self.employee_id = employee_id\n",
    "    \n",
    "    def get_emp_info(self):\n",
    "        return (f\"Employee details are : Name: {self.name}, ID: {self.employee_id}\")"
   ]
  },
  {
   "cell_type": "code",
   "execution_count": 95,
   "id": "54690265",
   "metadata": {},
   "outputs": [],
   "source": [
    "# child class1\n",
    "class manager(emp):\n",
    "    def __init__(self, name, employee_id,department):\n",
    "        super().__init__(name, employee_id)\n",
    "        self.department = department\n",
    "\n",
    "    def get_dept_info(self):\n",
    "        return (f\"Employee department details are : {self.get_emp_info()}, Department: {self.department}\")"
   ]
  },
  {
   "cell_type": "code",
   "execution_count": 96,
   "id": "04b6ac15",
   "metadata": {},
   "outputs": [],
   "source": [
    "#child class 2\n",
    "class projectmanager(manager):\n",
    "    def __init__(self, name, employee_id, department,project):\n",
    "        super().__init__(name, employee_id, department)\n",
    "        self.project = project\n",
    "\n",
    "    def get_project_info(self):\n",
    "        return (f\"Employee details are : {self.get_dept_info()},Project: {self.project}\")"
   ]
  },
  {
   "cell_type": "code",
   "execution_count": 97,
   "id": "89f22d05",
   "metadata": {},
   "outputs": [],
   "source": [
    "pm1 = projectmanager(\"Thaman\",234234,\"Finance\",\"PM108\")"
   ]
  },
  {
   "cell_type": "code",
   "execution_count": 98,
   "id": "59e4770e",
   "metadata": {},
   "outputs": [
    {
     "data": {
      "text/plain": [
       "'Thaman'"
      ]
     },
     "execution_count": 98,
     "metadata": {},
     "output_type": "execute_result"
    }
   ],
   "source": [
    "pm1.name"
   ]
  },
  {
   "cell_type": "code",
   "execution_count": 99,
   "id": "5e870e16",
   "metadata": {},
   "outputs": [
    {
     "data": {
      "text/plain": [
       "'PM108'"
      ]
     },
     "execution_count": 99,
     "metadata": {},
     "output_type": "execute_result"
    }
   ],
   "source": [
    "pm1.project"
   ]
  },
  {
   "cell_type": "code",
   "execution_count": 100,
   "id": "34ba4e82",
   "metadata": {},
   "outputs": [
    {
     "data": {
      "text/plain": [
       "'Employee details are : Name: Thaman, ID: 234234'"
      ]
     },
     "execution_count": 100,
     "metadata": {},
     "output_type": "execute_result"
    }
   ],
   "source": [
    "pm1.get_emp_info()"
   ]
  },
  {
   "cell_type": "code",
   "execution_count": 101,
   "id": "f124e100",
   "metadata": {},
   "outputs": [
    {
     "data": {
      "text/plain": [
       "'Employee department details are : Employee details are : Name: Thaman, ID: 234234, Department: Finance'"
      ]
     },
     "execution_count": 101,
     "metadata": {},
     "output_type": "execute_result"
    }
   ],
   "source": [
    "pm1.get_dept_info()"
   ]
  },
  {
   "cell_type": "code",
   "execution_count": 102,
   "id": "cbc76609",
   "metadata": {},
   "outputs": [
    {
     "data": {
      "text/plain": [
       "'Employee details are : Employee department details are : Employee details are : Name: Thaman, ID: 234234, Department: Finance,Project: PM108'"
      ]
     },
     "execution_count": 102,
     "metadata": {},
     "output_type": "execute_result"
    }
   ],
   "source": [
    "pm1.get_project_info()"
   ]
  },
  {
   "cell_type": "code",
   "execution_count": null,
   "id": "fefe548a",
   "metadata": {},
   "outputs": [],
   "source": []
  }
 ],
 "metadata": {
  "kernelspec": {
   "display_name": "venv",
   "language": "python",
   "name": "python3"
  },
  "language_info": {
   "codemirror_mode": {
    "name": "ipython",
    "version": 3
   },
   "file_extension": ".py",
   "mimetype": "text/x-python",
   "name": "python",
   "nbconvert_exporter": "python",
   "pygments_lexer": "ipython3",
   "version": "3.12.0"
  }
 },
 "nbformat": 4,
 "nbformat_minor": 5
}
